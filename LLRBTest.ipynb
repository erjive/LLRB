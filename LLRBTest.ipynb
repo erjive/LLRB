{
 "cells": [
  {
   "cell_type": "markdown",
   "metadata": {},
   "source": [
    "# LLRB Trees"
   ]
  },
  {
   "cell_type": "markdown",
   "metadata": {},
   "source": [
    "The LLRB Tree (left-leaning red-black tree) is a data structure, i.e. a way to store data that supports certain operations.\n",
    "\n",
    "A tree is a structure that saves data in nodes, which are pairs of keys and values. It must have a root node which has no parent node, and is linked to children that are also nodes, which can be linked to ther nodes and so on.\n",
    "\n",
    "This tree is binary, which means that any node can only have two children, if it doesn't have a node in one of its two vacants we will call that a leaf.\n",
    "\n",
    "The ordering of the tree is achieved via the keys. In this case, the left child has a lesser value, the right one is greater and if the key is the same we replace the corresponding value.\n",
    "<img src=\"binary_ex.svg\" height=100px width=100px>\n",
    "\n",
    "The main idea behind these trees is to keep them balanced. That is that any path of black nodes from the root of the tree to a leaf  is of the same length."
   ]
  },
  {
   "cell_type": "markdown",
   "metadata": {},
   "source": [
    "# Basic Operations"
   ]
  },
  {
   "cell_type": "code",
   "execution_count": null,
   "metadata": {
    "collapsed": false
   },
   "outputs": [],
   "source": [
    "include(\"llrbtree.jl\")"
   ]
  },
  {
   "cell_type": "code",
   "execution_count": null,
   "metadata": {
    "collapsed": false
   },
   "outputs": [],
   "source": [
    "function populate(tree::LLRBTrees.LLRBTree, N::Int64)\n",
    "    srand(2)\n",
    "    for i in 1:N\n",
    "        r = rand(0:100)\n",
    "        push!(tree, r, r )\n",
    "    end\n",
    "end"
   ]
  },
  {
   "cell_type": "code",
   "execution_count": null,
   "metadata": {
    "collapsed": false
   },
   "outputs": [],
   "source": [
    "tree=LLRBTrees.LLRBTree()\n",
    "push!(tree, 1, \"a\")\n",
    "push!(tree, 2, \"b\")\n",
    "push!(tree, 3, \"c\")\n",
    "push!(tree, 4, \"d\")\n",
    "push!(tree, 5, \"e\")\n",
    "delete!(tree, 2)"
   ]
  },
  {
   "cell_type": "code",
   "execution_count": null,
   "metadata": {
    "collapsed": false
   },
   "outputs": [],
   "source": [
    "LLRBTrees.LLRBVisualize.drawtree(tree)"
   ]
  },
  {
   "cell_type": "code",
   "execution_count": null,
   "metadata": {
    "collapsed": false
   },
   "outputs": [],
   "source": [
    "delete!(tree, 6)\n",
    "LLRBTrees.LLRBVisualize.drawtree(tree)"
   ]
  },
  {
   "cell_type": "code",
   "execution_count": null,
   "metadata": {
    "collapsed": true
   },
   "outputs": [],
   "source": []
  },
  {
   "cell_type": "code",
   "execution_count": null,
   "metadata": {
    "collapsed": false
   },
   "outputs": [],
   "source": [
    "tree=LLRBTrees.LLRBTree()\n",
    "populate(tree,8)\n",
    "LLRBTrees.LLRBVisualize.drawtree(tree)"
   ]
  },
  {
   "cell_type": "code",
   "execution_count": null,
   "metadata": {
    "collapsed": false
   },
   "outputs": [],
   "source": [
    "delete!(tree, 30)"
   ]
  },
  {
   "cell_type": "code",
   "execution_count": null,
   "metadata": {
    "collapsed": false
   },
   "outputs": [],
   "source": [
    "push!(tree, 30, 30)\n",
    "LLRBTrees.LLRBVisualize.drawtree(tree)"
   ]
  },
  {
   "cell_type": "code",
   "execution_count": null,
   "metadata": {
    "collapsed": false
   },
   "outputs": [],
   "source": [
    "arbol=LLRBTrees.LLRBTree()\n",
    "LLRBTrees.treeinsert!(arbol,1,\"a\")\n",
    "LLRBTrees.treeinsert!(arbol,2,\"b\")\n",
    "LLRBTrees.treeinsert!(arbol,3,\"c\")\n",
    "LLRBTrees.treeinsert!(arbol,4,\"d\")\n",
    "LLRBTrees.treeinsert!(arbol,5,\"e\")\n",
    "delete!(arbol,2)"
   ]
  },
  {
   "cell_type": "code",
   "execution_count": null,
   "metadata": {
    "collapsed": true
   },
   "outputs": [],
   "source": [
    "LLRBTrees.LLRBVisualize.drawtree(arbol)"
   ]
  },
  {
   "cell_type": "markdown",
   "metadata": {},
   "source": [
    "# Visualization"
   ]
  },
  {
   "cell_type": "code",
   "execution_count": null,
   "metadata": {
    "collapsed": false
   },
   "outputs": [],
   "source": [
    "treevisual=LLRBTrees.LLRBVisualize.drawtree(tree)"
   ]
  },
  {
   "cell_type": "markdown",
   "metadata": {},
   "source": [
    "It's an svg so we can do infinite zooming"
   ]
  },
  {
   "cell_type": "code",
   "execution_count": null,
   "metadata": {
    "collapsed": false
   },
   "outputs": [],
   "source": [
    "using Compose"
   ]
  },
  {
   "cell_type": "code",
   "execution_count": null,
   "metadata": {
    "collapsed": false
   },
   "outputs": [],
   "source": [
    "img = SVG(\"binary_ex.svg\", 10cm, 10cm)\n",
    "draw(img, treevisual)"
   ]
  },
  {
   "cell_type": "markdown",
   "metadata": {},
   "source": [
    "# Unit tests"
   ]
  },
  {
   "cell_type": "code",
   "execution_count": null,
   "metadata": {
    "collapsed": false
   },
   "outputs": [],
   "source": [
    "include(\"llrbtree.jl\")\n",
    "using LLRBTrees"
   ]
  },
  {
   "cell_type": "code",
   "execution_count": null,
   "metadata": {
    "collapsed": true
   },
   "outputs": [],
   "source": [
    "function populate(tree::LLRBTrees.LLRBTree, N::Int64)\n",
    "    for i in 1:N\n",
    "        r = rand(0:100)\n",
    "        push!(tri, r, r*2 )\n",
    "    end\n",
    "end\n",
    "tri=LLRBTrees.LLRBTree()\n",
    "populate(tri,30)"
   ]
  },
  {
   "cell_type": "code",
   "execution_count": null,
   "metadata": {
    "collapsed": false
   },
   "outputs": [],
   "source": [
    "function check_height(node::TreeNode, prevheight::Int=0, height::Int=0, first::Bool=true)\n",
    "    if( !node.isRed ) height += 1 end\n",
    "    check=true\n",
    "    \n",
    "    if(!isa(node.left, TreeLeaf))\n",
    "        check, prevheight = check_height(node.left, prevheight, height, first)\n",
    "    end\n",
    "    \n",
    "    if(!check)\n",
    "        return false, prevheight\n",
    "    end\n",
    "    \n",
    "    if( isa(node.left, TreeLeaf) && isa(node.right, TreeLeaf))\n",
    "        if (height != prevheight && !first)\n",
    "            return false, prevheight\n",
    "        end\n",
    "        prevheight = height\n",
    "    end\n",
    "    first=false\n",
    "    \n",
    "    if(!isa(node.right, TreeLeaf))\n",
    "        check, prevheight = check_height(node.right, prevheight, height, first)\n",
    "    end\n",
    "    \n",
    "    return check, prevheight\n",
    "    \n",
    "end\n",
    "check_height(tree::LLRBTree) = check_height(tree.root)[1]"
   ]
  },
  {
   "cell_type": "code",
   "execution_count": null,
   "metadata": {
    "collapsed": false
   },
   "outputs": [],
   "source": [
    "check_height(tri)"
   ]
  },
  {
   "cell_type": "code",
   "execution_count": null,
   "metadata": {
    "collapsed": false
   },
   "outputs": [],
   "source": [
    "tri.root.left.isRed=true"
   ]
  },
  {
   "cell_type": "code",
   "execution_count": null,
   "metadata": {
    "collapsed": false
   },
   "outputs": [],
   "source": [
    "check_height(tri)"
   ]
  },
  {
   "cell_type": "code",
   "execution_count": null,
   "metadata": {
    "collapsed": false
   },
   "outputs": [],
   "source": [
    "isa(delete!(tri, 16), LLRBTree)"
   ]
  },
  {
   "cell_type": "markdown",
   "metadata": {},
   "source": [
    "# Random Scenarios"
   ]
  },
  {
   "cell_type": "code",
   "execution_count": 1,
   "metadata": {
    "collapsed": false
   },
   "outputs": [
    {
     "name": "stderr",
     "output_type": "stream",
     "text": [
      "WARNING: Base.String is deprecated, use AbstractString instead.\n",
      "WARNING: Base.String is deprecated, use AbstractString instead.\n"
     ]
    },
    {
     "data": {
      "text/plain": [
       "check_height (generic function with 5 methods)"
      ]
     },
     "execution_count": 1,
     "metadata": {},
     "output_type": "execute_result"
    }
   ],
   "source": [
    "include(\"llrbtree.jl\")\n",
    "import FactCheck\n",
    "using LLRBTrees\n",
    "using LLRBTrees.LLRBVisualize\n",
    "using Compose\n",
    "\n",
    "function check_height(node::TreeNode, prevheight::Int=0, height::Int=0, first::Bool=true)\n",
    "    if( !node.isRed ) height += 1 end\n",
    "    check=true\n",
    "    \n",
    "    if(!isa(node.left, TreeLeaf))\n",
    "        check, prevheight = check_height(node.left, prevheight, height, first)\n",
    "    end\n",
    "    \n",
    "    if(!check)\n",
    "        return false, prevheight\n",
    "    end\n",
    "    \n",
    "    if( isa(node.left, TreeLeaf) && isa(node.right, TreeLeaf))\n",
    "        if (height != prevheight && !first)\n",
    "            return false, prevheight\n",
    "        end\n",
    "        prevheight = height\n",
    "    end\n",
    "    first=false\n",
    "    \n",
    "    if(!isa(node.right, TreeLeaf))\n",
    "        check, prevheight = check_height(node.right, prevheight, height, first)\n",
    "    end\n",
    "    \n",
    "    return check, prevheight\n",
    "    \n",
    "end\n",
    "check_height(tree::LLRBTree) = check_height(tree.root)[1]"
   ]
  },
  {
   "cell_type": "code",
   "execution_count": 2,
   "metadata": {
    "collapsed": false
   },
   "outputs": [],
   "source": [
    "function populate(tree::LLRBTree, N::Int64)\n",
    "    for i in 1:N\n",
    "        r = rand(0:100)\n",
    "        push!(tri, r, r*2 )\n",
    "    end\n",
    "end\n",
    "tri=LLRBTree()\n",
    "populate(tri,30)\n",
    "vis=drawtree(tri)\n",
    "img = SVG(\"test1.svg\", 10cm, 10cm)\n",
    "draw(img, vis)"
   ]
  },
  {
   "cell_type": "code",
   "execution_count": 3,
   "metadata": {
    "collapsed": false
   },
   "outputs": [
    {
     "data": {
      "text/plain": [
       "checktree (generic function with 1 method)"
      ]
     },
     "execution_count": 3,
     "metadata": {},
     "output_type": "execute_result"
    }
   ],
   "source": [
    "function checktree(tree::LLRBTree, elements::Array{TreeNode,1})\n",
    "\n",
    "    FactCheck.@fact tree --> check_height \"not balanced\"\n",
    "    #order\n",
    "    #no consecutive red nodes\n",
    "    #left leaning\n",
    "    \n",
    "end"
   ]
  },
  {
   "cell_type": "code",
   "execution_count": 4,
   "metadata": {
    "collapsed": false
   },
   "outputs": [
    {
     "data": {
      "text/plain": [
       "randomscenarios (generic function with 5 methods)"
      ]
     },
     "execution_count": 4,
     "metadata": {},
     "output_type": "execute_result"
    }
   ],
   "source": [
    "function randomscenarios(seed::Int=1, scenarios::Int=3, elNum=30, var=10)\n",
    "    #Fixed seed for reproducability\n",
    "    srand(seed)\n",
    "    \n",
    "    \n",
    "    FactCheck.facts(\"Test differents scenarios\") do\n",
    "        for i in 1:scenarios\n",
    "            \n",
    "            elementsMax = rand(elNum-var:elNum)\n",
    "            keysmax = rand(elNum:elNum+var)\n",
    "\n",
    "            tree = LLRBTree()\n",
    "            elements = TreeNode[]\n",
    "\n",
    "            FactCheck.context(\"Add random values\") do\n",
    "                for i in 1:elementsMax\n",
    "                    key = rand(1:keysmax)\n",
    "                    node = TreeNode(key, key )\n",
    "                    \n",
    "                    push!(tree, node)\n",
    "                    \n",
    "                    indexes = Int[]\n",
    "                    for j in 1:size(elements)[1]\n",
    "                        nd = elements[j]\n",
    "                        if nd.key ==  node.key\n",
    "                            push!(indexes, j)\n",
    "                        end\n",
    "                    end\n",
    "                    deleteat!(elements, indexes) #Remove repeated nodes\n",
    "                    push!(elements, node)\n",
    "                    \n",
    "                    checktree(tree, elements)\n",
    "                end\n",
    "            end\n",
    "            println(elements)\n",
    "            println(tree)\n",
    "            vis=drawtree(tree)\n",
    "            img = SVG(\"test1.svg\", 10cm, 10cm)\n",
    "            draw(img, vis)\n",
    "\n",
    "            FactCheck.context(\"Remove keys not present\") do\n",
    "                lower = elNum + 1 + var\n",
    "                upper = elNum + 1 + 2*var\n",
    "                removesMax = rand(lower:upper)\n",
    "                for i in lower:removesMax\n",
    "                    println(\"delete: \",i, \" \", )\n",
    "                    delete!(tree, i)\n",
    "                    checktree(tree, elements)\n",
    "                end\n",
    "            end\n",
    "            println(tree)\n",
    "            vis=drawtree(tree)\n",
    "            img = SVG(\"test2.svg\", 10cm, 10cm)\n",
    "            draw(img, vis)\n",
    "            \n",
    "            #Remove all keys in random order\n",
    "            FactCheck.context(\"Remove all keys\") do\n",
    "                i=1\n",
    "                while( size(elements)[1] > 0 )\n",
    "                    index = rand(1:size(elements)[1])\n",
    "                    println(elements[index])\n",
    "                    FactCheck.@fact isa(delete!( tree, elements[index].key ), LLRBTree) --> true  \"Did not return the tree with deleted node\"\n",
    "                    \n",
    "                    vis=drawtree(tree)\n",
    "                    img = SVG(\"test\",i,\".svg\", 10cm, 10cm)\n",
    "                    draw(img, vis)\n",
    "                    \n",
    "                    deleteat!(elements, index)\n",
    "\n",
    "                    checktree(tree, elements)\n",
    "                    i+=1\n",
    "                end\n",
    "            end\n",
    "\n",
    "        end\n",
    "    end\n",
    "end"
   ]
  },
  {
   "cell_type": "code",
   "execution_count": 5,
   "metadata": {
    "collapsed": false,
    "scrolled": true
   },
   "outputs": [
    {
     "name": "stdout",
     "output_type": "stream",
     "text": [
      "Test differents scenarios\n",
      "  > Add random values\n",
      "LLRBTrees.TreeNode[LLRBTrees.TreeNode{Int64,Int64}(40,40,true,LLRBTrees.TreeLeaf(false),LLRBTrees.TreeLeaf(false)),LLRBTrees.TreeNode{Int64,Int64}(31,31,true,LLRBTrees.TreeLeaf(false),LLRBTrees.TreeLeaf(false)),LLRBTrees.TreeNode{Int64,Int64}(3,3,true,LLRBTrees.TreeLeaf(false),LLRBTrees.TreeLeaf(false)),LLRBTrees.TreeNode{Int64,Int64}(4,4,true,LLRBTrees.TreeLeaf(false),LLRBTrees.TreeLeaf(false)),LLRBTrees.TreeNode{Int64,Int64}(19,19,true,LLRBTrees.TreeLeaf(false),LLRBTrees.TreeLeaf(false)),LLRBTrees.TreeNode{Int64,Int64}(12,12,true,LLRBTrees.TreeLeaf(false),LLRBTrees.TreeLeaf(false)),LLRBTrees.TreeNode{Int64,Int64}(21,21,true,LLRBTrees.TreeLeaf(false),LLRBTrees.TreeLeaf(false)),LLRBTrees.TreeNode{Int64,Int64}(25,25,true,LLRBTrees.TreeLeaf(false),LLRBTrees.TreeLeaf(false)),LLRBTrees.TreeNode{Int64,Int64}(13,13,true,LLRBTrees.TreeLeaf(false),LLRBTrees.TreeLeaf(false)),LLRBTrees.TreeNode{Int64,Int64}(14,14,true,LLRBTrees.TreeLeaf(false),LLRBTrees.TreeLeaf(false)),LLRBTrees.TreeNode{Int64,Int64}(28,28,true,LLRBTrees.TreeLeaf(false),LLRBTrees.TreeLeaf(false)),LLRBTrees.TreeNode{Int64,Int64}(2,2,true,LLRBTrees.TreeLeaf(false),LLRBTrees.TreeLeaf(false)),LLRBTrees.TreeNode{Int64,Int64}(10,10,true,LLRBTrees.TreeLeaf(false),LLRBTrees.TreeLeaf(false)),LLRBTrees.TreeNode{Int64,Int64}(32,32,true,LLRBTrees.TreeLeaf(false),LLRBTrees.TreeLeaf(false)),LLRBTrees.TreeNode{Int64,Int64}(35,35,true,LLRBTrees.TreeLeaf(false),LLRBTrees.TreeLeaf(false))]\n",
      "LLRBTrees.LLRBTree(LLRBTrees."
     ]
    },
    {
     "name": "stderr",
     "output_type": "stream",
     "text": [
      "WARNING: Key not found:41\n"
     ]
    },
    {
     "name": "stdout",
     "output_type": "stream",
     "text": [
      "TreeNode{Int64,Int64}(31,31,false,LLRBTrees.TreeNode{Int64,Int64}(14,14,true,LLRBTrees.TreeNode{Int64,Int64}(12,12,false,LLRBTrees.TreeNode{Int64,Int64}(4,4,true,LLRBTrees.TreeNode{Int64,Int64}(3,3,false,LLRBTrees.TreeNode{Int64,Int64}(2,2,true,LLRBTrees.TreeLeaf(false),LLRBTrees.TreeLeaf(false)),LLRBTrees.TreeLeaf(false)),LLRBTrees.TreeNode{Int64,Int64}(10,10,false,LLRBTrees.TreeLeaf(false),LLRBTrees.TreeLeaf(false))),LLRBTrees.TreeNode{Int64,Int64}(13,13,false,LLRBTrees.TreeLeaf(false),LLRBTrees.TreeLeaf(false))),LLRBTrees.TreeNode{Int64,Int64}(21,21,false,LLRBTrees.TreeNode{Int64,Int64}(19,19,false,LLRBTrees.TreeLeaf(false),LLRBTrees.TreeLeaf(false)),LLRBTrees.TreeNode{Int64,Int64}(28,28,false,LLRBTrees.TreeNode{Int64,Int64}(25,25,true,LLRBTrees.TreeLeaf(false),LLRBTrees.TreeLeaf(false)),LLRBTrees.TreeLeaf(false)))),LLRBTrees.TreeNode{Int64,Int64}(35,35,false,LLRBTrees.TreeNode{Int64,Int64}(32,32,false,LLRBTrees.TreeLeaf(false),LLRBTrees.TreeLeaf(false)),LLRBTrees.TreeNode{Int64,Int64}(40,40,false,LLRBTrees.TreeLeaf(false),LLRBTrees.TreeLeaf(false)))))\n",
      "  > Remove keys not present\n",
      "delete: 41 \n"
     ]
    },
    {
     "ename": "LoadError",
     "evalue": "LoadError: MethodError: `convert` has no method matching convert(::Type{Compose.SVG}, ::ASCIIString, ::Int64, ::ASCIIString, ::Compose.Measure{Compose.MeasureNil,Compose.MeasureNil}, ::Compose.Measure{Compose.MeasureNil,Compose.MeasureNil})\nThis may have arisen from a call to the constructor Compose.SVG(...),\nsince type constructors fall back to convert methods.\nClosest candidates are:\n  Compose.SVG(::AbstractString, ::Any, ::Any)\n  Compose.SVG(::AbstractString, ::Any, ::Any, !Matched::Symbol)\n  Compose.SVG(!Matched::IO, ::Any, ::Any)\n  ...\nwhile loading In[5], in expression starting on line 1",
     "output_type": "error",
     "traceback": [
      "LoadError: MethodError: `convert` has no method matching convert(::Type{Compose.SVG}, ::ASCIIString, ::Int64, ::ASCIIString, ::Compose.Measure{Compose.MeasureNil,Compose.MeasureNil}, ::Compose.Measure{Compose.MeasureNil,Compose.MeasureNil})\nThis may have arisen from a call to the constructor Compose.SVG(...),\nsince type constructors fall back to convert methods.\nClosest candidates are:\n  Compose.SVG(::AbstractString, ::Any, ::Any)\n  Compose.SVG(::AbstractString, ::Any, ::Any, !Matched::Symbol)\n  Compose.SVG(!Matched::IO, ::Any, ::Any)\n  ...\nwhile loading In[5], in expression starting on line 1",
      "",
      " in anonymous at In[4]:65",
      " in context at /home/ernesto/.julia/v0.4/FactCheck/src/FactCheck.jl:474",
      " in anonymous at In[4]:57",
      " in facts at /home/ernesto/.julia/v0.4/FactCheck/src/FactCheck.jl:448",
      " in randomscenarios at In[4]:6",
      " in randomscenarios at In[4]:3"
     ]
    },
    {
     "name": "stderr",
     "output_type": "stream",
     "text": [
      "WARNING: Key not found:42\n",
      "WARNING: Key not found:43\n",
      "WARNING: Key not found:44\n",
      "WARNING: Key not found:45\n",
      "WARNING: Key not found:46\n",
      "WARNING: Key not found:47\n",
      "WARNING: Key not found:48\n",
      "WARNING: Key not found:49\n",
      "WARNING: Key not found:50\n"
     ]
    },
    {
     "name": "stdout",
     "output_type": "stream",
     "text": [
      "delete: 42 \n",
      "delete: 43 \n",
      "delete: 44 \n",
      "delete: 45 \n",
      "delete: 46 \n",
      "delete: 47 \n",
      "delete: 48 \n",
      "delete: 49 \n",
      "delete: 50 \n",
      "LLRBTrees.LLRBTree(LLRBTrees.TreeNode{Int64,Int64}(31,31,false,LLRBTrees.TreeNode{Int64,Int64}(14,14,true,LLRBTrees.TreeNode{Int64,Int64}(12,12,false,LLRBTrees.TreeNode{Int64,Int64}(4,4,true,LLRBTrees.TreeNode{Int64,Int64}(3,3,false,LLRBTrees.TreeNode{Int64,Int64}(2,2,true,LLRBTrees.TreeLeaf(false),LLRBTrees.TreeLeaf(false)),LLRBTrees.TreeLeaf(false)),LLRBTrees.TreeNode{Int64,Int64}(10,10,false,LLRBTrees.TreeLeaf(false),LLRBTrees.TreeLeaf(false))),LLRBTrees.TreeNode{Int64,Int64}(13,13,false,LLRBTrees.TreeLeaf(false),LLRBTrees.TreeLeaf(false))),LLRBTrees.TreeNode{Int64,Int64}(21,21,false,LLRBTrees.TreeNode{Int64,Int64}(19,19,false,LLRBTrees.TreeLeaf(false),LLRBTrees.TreeLeaf(false)),LLRBTrees.TreeNode{Int64,Int64}(28,28,false,LLRBTrees.TreeNode{Int64,Int64}(25,25,true,LLRBTrees.TreeLeaf(false),LLRBTrees.TreeLeaf(false)),LLRBTrees.TreeLeaf(false)))),LLRBTrees.TreeNode{Int64,Int64}(35,35,false,LLRBTrees.TreeNode{Int64,Int64}(32,32,false,LLRBTrees.TreeLeaf(false),LLRBTrees.TreeLeaf(false)),LLRBTrees.TreeNode{Int64,Int64}(40,40,false,LLRBTrees.TreeLeaf(false),LLRBTrees.TreeLeaf(false)))))\n",
      "  > Remove all keys\n",
      "LLRBTrees.TreeNode{Int64,Int64}(35,35,true,LLRBTrees.TreeLeaf(false),LLRBTrees.TreeLeaf(false))\n"
     ]
    }
   ],
   "source": [
    "randomscenarios()"
   ]
  },
  {
   "cell_type": "code",
   "execution_count": null,
   "metadata": {
    "collapsed": true
   },
   "outputs": [],
   "source": []
  }
 ],
 "metadata": {
  "kernelspec": {
   "display_name": "Julia 0.4.0-rc2",
   "language": "julia",
   "name": "julia-0.4"
  },
  "language_info": {
   "file_extension": ".jl",
   "mimetype": "application/julia",
   "name": "julia",
   "version": "0.4.0"
  }
 },
 "nbformat": 4,
 "nbformat_minor": 0
}
