{
 "cells": [
  {
   "cell_type": "code",
   "execution_count": 53,
   "metadata": {
    "collapsed": false
   },
   "outputs": [
    {
     "name": "stderr",
     "output_type": "stream",
     "text": [
      "Warning: replacing module LLRBTrees\n"
     ]
    }
   ],
   "source": [
    "include(\"llrbtree.jl\")"
   ]
  },
  {
   "cell_type": "code",
   "execution_count": 54,
   "metadata": {
    "collapsed": false
   },
   "outputs": [
    {
     "data": {
      "text/plain": [
       "populate (generic function with 5 methods)"
      ]
     },
     "execution_count": 54,
     "metadata": {},
     "output_type": "execute_result"
    }
   ],
   "source": [
    "function populate(tree::LLRBTrees.LLRBTree, N::Int64)\n",
    "    for i in 1:N        \n",
    "        push!(tri, i, i*i )\n",
    "    end\n",
    "end"
   ]
  },
  {
   "cell_type": "code",
   "execution_count": 55,
   "metadata": {
    "collapsed": false
   },
   "outputs": [
    {
     "data": {
      "text/plain": [
       "LLRBTree(TreeLeaf(false))"
      ]
     },
     "execution_count": 55,
     "metadata": {},
     "output_type": "execute_result"
    }
   ],
   "source": [
    "tri=LLRBTrees.LLRBTree()"
   ]
  },
  {
   "cell_type": "code",
   "execution_count": 56,
   "metadata": {
    "collapsed": false
   },
   "outputs": [],
   "source": [
    "populate(tri,10)"
   ]
  },
  {
   "cell_type": "code",
   "execution_count": 57,
   "metadata": {
    "collapsed": false
   },
   "outputs": [],
   "source": [
    "LLRBTrees.orderedpairs(tri);"
   ]
  },
  {
   "cell_type": "code",
   "execution_count": 58,
   "metadata": {
    "collapsed": false
   },
   "outputs": [
    {
     "ename": "LoadError",
     "evalue": "type: draw: in apply, expected Function, got Int64\nwhile loading In[58], in expression starting on line 1",
     "output_type": "error",
     "traceback": [
      "type: draw: in apply, expected Function, got Int64\nwhile loading In[58], in expression starting on line 1",
      "",
      " in draw at /home/ernesto/Desktop/UNAM/Servicio/workspace/llrbtree.jl:490",
      " in draw at /home/ernesto/Desktop/UNAM/Servicio/workspace/llrbtree.jl:504"
     ]
    }
   ],
   "source": [
    "treevisual = LLRBTrees.LLRBVisualize.draw(tri)"
   ]
  },
  {
   "cell_type": "markdown",
   "metadata": {},
   "source": [
    "It's an svg so we can do infinite zooming"
   ]
  },
  {
   "cell_type": "code",
   "execution_count": 40,
   "metadata": {
    "collapsed": false
   },
   "outputs": [],
   "source": [
    "img = SVG(\"tree.svg\", 10cm, 10cm)\n",
    "draw(img, treevisual)"
   ]
  },
  {
   "cell_type": "code",
   "execution_count": 31,
   "metadata": {
    "collapsed": false
   },
   "outputs": [],
   "source": [
    "using Compose"
   ]
  }
 ],
 "metadata": {
  "kernelspec": {
   "display_name": "Julia 0.3.11",
   "language": "julia",
   "name": "julia-0.3"
  },
  "language_info": {
   "name": "julia",
   "version": "0.3.11"
  }
 },
 "nbformat": 4,
 "nbformat_minor": 0
}
