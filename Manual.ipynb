{
 "cells": [
  {
   "cell_type": "markdown",
   "metadata": {},
   "source": [
    "# Left-Leaning Red Black Trees"
   ]
  },
  {
   "cell_type": "markdown",
   "metadata": {},
   "source": [
    "## Binary Search Tree"
   ]
  },
  {
   "cell_type": "markdown",
   "metadata": {},
   "source": [
    "Una estructura de datos es una forma en particular de organizar datos para ser usados de forma eficiente. Existen diversos ejemplos de estructuras [Cormen, p. 229] pero la que nos interesa es una estrucutura llamada \"árbol binario\".\n",
    "\n",
    "Un árbol binario es una estructura que permite organizar los datos en un esquema que como su nombre sugiere en forma de \"árbol binario\".\n",
    "\n",
    "\n"
   ]
  },
  {
   "cell_type": "markdown",
   "metadata": {},
   "source": [
    "Un árbol binario se forma a partir de ***nodos*** que contienen ***vínculos*** que pueden ser ***vacíos*** o tener la referencia a otros nodos. En un árbol binario, restringimos que todos los nodos sean apuntados por otro (el cual es llamado ***padre ó parent***) con excepción de la ***raíz ó root*** la cual no tiene nodos que la apunten. Los nodos tienen exactamente dos vínculos, el ***izquierdo (left)*** y el ***derecho (right)*** los cuales apuntan a los ***hijo derecho*** e ***hijo izquierdo*** respectivamente, además cada nodo tiene una ***clave comparable (key)*** y un ***valor (value)*** asociados sujetos a un ordenamiento que nos permite realizar una búsqueda eficiente."
   ]
  },
  {
   "cell_type": "markdown",
   "metadata": {},
   "source": [
    "Las claves en un arbol binario son almacenadas tal que satisfacen la siguiente propiedad:\n",
    "\n",
    "Sea $x$ un nodo en un arbol binario. Si $y$ es un nodo en el subárbol izquierdo de $x$, entonces $y.key \\leq x.key$. Si $y$ es un nodo en el subárbol derecho de $x$, entonces $y.key\\geq x.key$."
   ]
  },
  {
   "cell_type": "markdown",
   "metadata": {},
   "source": [
    "<p><img src=\"./llrb_images/bst.svg\" height=300px width=300px title=\"Árbol binario\">\n"
   ]
  },
  {
   "cell_type": "markdown",
   "metadata": {},
   "source": [
    "En la figura anterior, la clave de la raíz del arbol es $6$, las claves $2,4$ y $5$ en el subárbol izquierdo son menores que $6$ y las claves $7$ y $10$ son mayores que $6$."
   ]
  },
  {
   "cell_type": "markdown",
   "metadata": {},
   "source": [
    "## Operaciones"
   ]
  },
  {
   "cell_type": "code",
   "execution_count": null,
   "metadata": {
    "collapsed": true
   },
   "outputs": [],
   "source": []
  }
 ],
 "metadata": {
  "kernelspec": {
   "display_name": "Julia 0.4.0",
   "language": "julia",
   "name": "julia-0.4"
  },
  "language_info": {
   "file_extension": ".jl",
   "mimetype": "application/julia",
   "name": "julia",
   "version": "0.4.0"
  }
 },
 "nbformat": 4,
 "nbformat_minor": 0
}
