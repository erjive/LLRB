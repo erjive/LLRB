{
 "cells": [
  {
   "cell_type": "code",
   "execution_count": 9,
   "metadata": {
    "collapsed": false
   },
   "outputs": [
    {
     "name": "stderr",
     "output_type": "stream",
     "text": [
      "Warning: could not import Base.Text into Tk\n",
      "Warning: using ImageView.display in module Main conflicts with an existing identifier.\n"
     ]
    }
   ],
   "source": [
    "using Compose\n",
    "using Images, ImageView"
   ]
  },
  {
   "cell_type": "code",
   "execution_count": 2,
   "metadata": {
    "collapsed": false
   },
   "outputs": [
    {
     "data": {
      "text/plain": [
       "sierpinski (generic function with 1 method)"
      ]
     },
     "execution_count": 2,
     "metadata": {},
     "output_type": "execute_result"
    }
   ],
   "source": [
    "function sierpinski(n)\n",
    "    if n == 0\n",
    "        compose(context(), polygon([(1,1), (0,1), (1/2, 0)]))\n",
    "    else\n",
    "        t = sierpinski(n - 1)\n",
    "        compose(context(),\n",
    "                (context(1/4,   0, 1/2, 1/2), t),\n",
    "                (context(  0, 1/2, 1/2, 1/2), t),\n",
    "                (context(1/2, 1/2, 1/2, 1/2), t))\n",
    "    end\n",
    "end"
   ]
  },
  {
   "cell_type": "code",
   "execution_count": 3,
   "metadata": {
    "collapsed": false
   },
   "outputs": [],
   "source": [
    "img = SVG(\"sierpinski.svg\", 4inch, 4(sqrt(3)/2)inch)\n",
    "draw(img, compose(sierpinski(0), linewidth(0.1mm), fill(nothing), stroke(\"black\")))"
   ]
  },
  {
   "cell_type": "code",
   "execution_count": 10,
   "metadata": {
    "collapsed": false
   },
   "outputs": [
    {
     "ename": "LoadError",
     "evalue": "unable to open file `/tmp/magick-rokfkiFB': No such file or directory @ error/constitute.c/ReadImage/583\nwhile loading In[10], in expression starting on line 1",
     "output_type": "error",
     "traceback": [
      "unable to open file `/tmp/magick-rokfkiFB': No such file or directory @ error/constitute.c/ReadImage/583\nwhile loading In[10], in expression starting on line 1",
      "",
      " in error at error.jl:21",
      " in error at /home/ernesto/.julia/v0.3/Images/src/ioformats/libmagickwand.jl:149",
      " in readimage at /home/ernesto/.julia/v0.3/Images/src/ioformats/libmagickwand.jl:227",
      " in imread at /home/ernesto/.julia/v0.3/Images/src/io.jl:263",
      " in imread at /home/ernesto/.julia/v0.3/Images/src/io.jl:139"
     ]
    }
   ],
   "source": [
    "img2=imread(\"sierpinski_deferred.svg\")"
   ]
  },
  {
   "cell_type": "code",
   "execution_count": 31,
   "metadata": {
    "collapsed": true
   },
   "outputs": [],
   "source": [
    "function sierpinski(n::Int)\n",
    "    if n == 0\n",
    "        compose(context(), polygon([(1,1), (0,1), (1/2, 0)]))\n",
    "    else\n",
    "        t = sierpinski(n - 1)\n",
    "        compose(context(),\n",
    "                (context(1/4,   0, 1/2, 1/2), t),\n",
    "                (context(  0, 1/2, 1/2, 1/2), t),\n",
    "                (context(1/2, 1/2, 1/2, 1/2), t))\n",
    "    end\n",
    "end\n",
    "\n",
    "img = SVG(\"sierpinski_deferred.svg\", 4inch, 4(√3/2)inch)\n",
    "draw(img, compose(context(), linewidth(0.1mm), fill(nothing), stroke(\"black\"),\n",
    "                  ctxpromise(c -> sierpinski(8))))"
   ]
  },
  {
   "cell_type": "code",
   "execution_count": null,
   "metadata": {
    "collapsed": true
   },
   "outputs": [],
   "source": [
    "img"
   ]
  },
  {
   "cell_type": "code",
   "execution_count": 17,
   "metadata": {
    "collapsed": true
   },
   "outputs": [],
   "source": [
    "using Color\n",
    "\n",
    "function draw_lines(dash_patterns)\n",
    "    if length(dash_patterns) == 0\n",
    "        context()\n",
    "    else\n",
    "        compose(compose(context(), line([(0, 0), (1, 0)]), strokedash(dash_patterns[1])),\n",
    "                compose(context(0, 0.1), draw_lines(dash_patterns[2:end])))\n",
    "    end\n",
    "end\n",
    "\n",
    "patterns = Array[\n",
    "    [5mm, 5mm],\n",
    "    [5mm, 10mm],\n",
    "    [10mm, 5mm],\n",
    "    [5mm, 1mm],\n",
    "    [1mm, 5mm],\n",
    "    [0.9mm],\n",
    "    [15mm, 10mm, 5mm],\n",
    "    [15mm, 10mm, 5mm, 10mm],\n",
    "    [15mm, 10mm, 5mm, 10mm, 15mm],\n",
    "    [5mm, 5mm, 1mm, 5mm]]\n",
    "\n",
    "\n",
    "c = draw_lines(patterns)\n",
    "\n",
    "img = PDF(\"dash.pdf\", 4inch, 4(sqrt(3)/2)inch)\n",
    "draw(img, compose(c, stroke(color(\"black\")), linewidth(1mm)))"
   ]
  },
  {
   "cell_type": "code",
   "execution_count": null,
   "metadata": {
    "collapsed": true
   },
   "outputs": [],
   "source": []
  }
 ],
 "metadata": {
  "kernelspec": {
   "display_name": "Julia 0.3.11",
   "language": "julia",
   "name": "julia-0.3"
  },
  "language_info": {
   "name": "julia",
   "version": "0.3.11"
  }
 },
 "nbformat": 4,
 "nbformat_minor": 0
}
